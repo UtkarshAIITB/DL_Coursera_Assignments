{
  "nbformat": 4,
  "nbformat_minor": 0,
  "metadata": {
    "colab": {
      "name": "data_processing.ipynb",
      "provenance": [],
      "authorship_tag": "ABX9TyMx+HYpz0/xeyTYkznYVLxX",
      "include_colab_link": true
    },
    "kernelspec": {
      "name": "python3",
      "display_name": "Python 3"
    },
    "language_info": {
      "name": "python"
    }
  },
  "cells": [
    {
      "cell_type": "markdown",
      "metadata": {
        "id": "view-in-github",
        "colab_type": "text"
      },
      "source": [
        "<a href=\"https://colab.research.google.com/github/UtkarshAIITB/DL_Coursera_Assignments/blob/main/Data%20Processing/data_processing.ipynb\" target=\"_parent\"><img src=\"https://colab.research.google.com/assets/colab-badge.svg\" alt=\"Open In Colab\"/></a>"
      ]
    },
    {
      "cell_type": "code",
      "execution_count": 92,
      "metadata": {
        "colab": {
          "base_uri": "https://localhost:8080/"
        },
        "id": "71zzXl71tv4h",
        "outputId": "92f889b1-9220-4c33-ae5c-46713410f187"
      },
      "outputs": [
        {
          "output_type": "stream",
          "name": "stdout",
          "text": [
            "Requirement already satisfied: pymupdf in /usr/local/lib/python3.7/dist-packages (1.19.6)\n",
            "Requirement already satisfied: textatistic in /usr/local/lib/python3.7/dist-packages (0.0.1)\n",
            "Requirement already satisfied: pyhyphen>=2.0.5 in /usr/local/lib/python3.7/dist-packages (from textatistic) (4.0.3)\n",
            "Requirement already satisfied: wheel>=0.36.0 in /usr/local/lib/python3.7/dist-packages (from pyhyphen>=2.0.5->textatistic) (0.37.1)\n",
            "Requirement already satisfied: requests>=2.25 in /usr/local/lib/python3.7/dist-packages (from pyhyphen>=2.0.5->textatistic) (2.27.1)\n",
            "Requirement already satisfied: appdirs>=1.4.0 in /usr/local/lib/python3.7/dist-packages (from pyhyphen>=2.0.5->textatistic) (1.4.4)\n",
            "Requirement already satisfied: setuptools>=52.0 in /usr/local/lib/python3.7/dist-packages (from pyhyphen>=2.0.5->textatistic) (57.4.0)\n",
            "Requirement already satisfied: urllib3<1.27,>=1.21.1 in /usr/local/lib/python3.7/dist-packages (from requests>=2.25->pyhyphen>=2.0.5->textatistic) (1.24.3)\n",
            "Requirement already satisfied: certifi>=2017.4.17 in /usr/local/lib/python3.7/dist-packages (from requests>=2.25->pyhyphen>=2.0.5->textatistic) (2021.10.8)\n",
            "Requirement already satisfied: idna<4,>=2.5 in /usr/local/lib/python3.7/dist-packages (from requests>=2.25->pyhyphen>=2.0.5->textatistic) (2.10)\n",
            "Requirement already satisfied: charset-normalizer~=2.0.0 in /usr/local/lib/python3.7/dist-packages (from requests>=2.25->pyhyphen>=2.0.5->textatistic) (2.0.12)\n"
          ]
        }
      ],
      "source": [
        "!pip3 install pymupdf\n",
        "import fitz\n",
        "!pip3 install textatistic\n",
        "from textatistic import Textatistic"
      ]
    },
    {
      "cell_type": "code",
      "source": [
        "from google.colab import drive\n",
        "drive.mount('/content/drive')"
      ],
      "metadata": {
        "colab": {
          "base_uri": "https://localhost:8080/"
        },
        "id": "KUWqiYsLv6nU",
        "outputId": "a7972edd-e131-4c8c-fc19-0b5d7b1b08d4"
      },
      "execution_count": 93,
      "outputs": [
        {
          "output_type": "stream",
          "name": "stdout",
          "text": [
            "Drive already mounted at /content/drive; to attempt to forcibly remount, call drive.mount(\"/content/drive\", force_remount=True).\n"
          ]
        }
      ]
    },
    {
      "cell_type": "markdown",
      "source": [
        "# Pre-processing of text"
      ],
      "metadata": {
        "id": "NcoNa_E-bDT0"
      }
    },
    {
      "cell_type": "code",
      "source": [
        "def data(file, start, end):\n",
        "  doc = fitz.open(file)\n",
        "  text = \"\"\n",
        "  for i in range (start,end+1):\n",
        "    page = doc[i]\n",
        "    text += page.get_text()\n",
        "\n",
        "  text = text.replace(\"\\n\", \"\")\n",
        "  text = text.replace(\"`\", u\"\\u20B9\") # to get ruppee symbol\n",
        "  text = text.replace(u'\\xa0', u' ')  # to replace \\xao characters\n",
        "  lines = text.split(\".\")\n",
        "  return text, lines"
      ],
      "metadata": {
        "id": "dN4664Cit8RB"
      },
      "execution_count": 94,
      "outputs": []
    },
    {
      "cell_type": "code",
      "source": [
        "#to remove comma from big figures\n",
        "def remove_comma(tp):\n",
        "  lst = list(tp)\n",
        "  for i in range(1, len(tp)-1):\n",
        "    if(lst[i-1].isdigit() and lst[i]== ',' and lst[i+1].isdigit()):\n",
        "      lst[i] = ''\n",
        "  str1 = ''.join(lst)\n",
        "  return str1"
      ],
      "metadata": {
        "id": "o425e4Zlt8UP"
      },
      "execution_count": 95,
      "outputs": []
    },
    {
      "cell_type": "code",
      "source": [
        "#to process texts like '1Perfect went 23good.' to ' Perfect went good.'\n",
        "def remove_weird_numbers(tp):\n",
        "  lst = list(tp)\n",
        "  for i in range(1 , len(tp)-1):\n",
        "    if(lst[i-1].isdigit() and lst[i].isalpha() ):\n",
        "      c1 = i\n",
        "      while(c1>-1 and lst[c1-1].isdigit()):\n",
        "        lst[c1-1] = ''\n",
        "        c1 = c1-1\n",
        "    if(lst[i].isalpha() and lst[i+1].isdigit()):\n",
        "      c2 = i\n",
        "      while(c2<(len(tp)-1) and lst[c2+1].isdigit()):\n",
        "        lst[c2+1] = ''\n",
        "        c2 = c2+1\n",
        "\n",
        "  str2 = ''.join(lst)\n",
        "  return str2"
      ],
      "metadata": {
        "id": "2Xd5aQiIt8XC"
      },
      "execution_count": 96,
      "outputs": []
    },
    {
      "cell_type": "code",
      "source": [
        "#words which have capital letters in between, for ex: ContentAbstract, these are part of table and hence we don't want to include them in our \n",
        "#analysis\n",
        "def remove_capitalisation(tp):\n",
        "  lst = list(tp)\n",
        "  for i in range(1, len(tp)-1):\n",
        "    if(lst[i-1].islower() and lst[i].isupper() and lst[i+1].islower()):\n",
        "      tp = ''\n",
        "  return tp"
      ],
      "metadata": {
        "id": "HRYxA1Mst8aH"
      },
      "execution_count": 97,
      "outputs": []
    },
    {
      "cell_type": "code",
      "source": [
        "#remove bullet points since they signify tables or figures.\n",
        "def remove_bullet(tp):\n",
        "  lst = list(tp)\n",
        "  for item in lst:\n",
        "    if u'•' in item:\n",
        "      tp = ''\n",
        "  return tp"
      ],
      "metadata": {
        "id": "Iy4Vd0Na9XXd"
      },
      "execution_count": 98,
      "outputs": []
    },
    {
      "cell_type": "code",
      "source": [
        "def final_text(lines):\n",
        "  for i in range(0, len(lines)):\n",
        "    lines[i] = remove_capitalisation(lines[i])\n",
        "    lines[i] = remove_comma(lines[i])\n",
        "    lines[i] = remove_weird_numbers(lines[i])\n",
        "    lines[i] = remove_bullet(lines[i])\n",
        "    lines[i]+='.'\n",
        "\n",
        "  l = 0\n",
        "  for i in range(0, len(lines)):\n",
        "    l += len(lines[i])\n",
        "  l = l/len(lines)\n",
        "  # print(l)\n",
        "\n",
        "  for i in range(0, len(lines)):\n",
        "    if(len(lines[i]) < 50):\n",
        "      lines[i] = ''\n",
        "\n",
        "  text_re = ''\n",
        "  for i in range(0, len(lines)):\n",
        "    text_re += (lines[i])\n",
        "\n",
        "  return text_re"
      ],
      "metadata": {
        "id": "WKsefZfut8dA"
      },
      "execution_count": 99,
      "outputs": []
    },
    {
      "cell_type": "code",
      "source": [
        "def calculate_score(final):\n",
        "  s = Textatistic(final)\n",
        "  counts = s.counts\n",
        "  print('Flesch score: ' + str(s.flesch_score) )\n",
        "  print('Dalechall score: ' + str(s.dalechall_score))\n",
        "  print('Flesch-Kincaid score: ' + str(s.fleschkincaid_score))\n",
        "  print('Gunning Fog score: ' + str(s.gunningfog_score))\n",
        "  print('Smog score: ' + str(s.smog_score))\n",
        "  # return counts"
      ],
      "metadata": {
        "id": "cUP0YsoR4MyY"
      },
      "execution_count": 100,
      "outputs": []
    },
    {
      "cell_type": "markdown",
      "source": [
        "# Profit-making Firms"
      ],
      "metadata": {
        "id": "C2jYkSTsa65q"
      }
    },
    {
      "cell_type": "markdown",
      "source": [
        "## Infosys-2020-21"
      ],
      "metadata": {
        "id": "bdA3boJe4Us5"
      }
    },
    {
      "cell_type": "code",
      "source": [
        "file = open('/content/drive/MyDrive/Telfer/Annual_reports/infosys-ar-21.pdf', 'r')\n",
        "text, lines = data(file , 56, 83)\n",
        "final = final_text(lines)\n",
        "with open('/content/drive/MyDrive/Telfer/tp.txt', 'w') as out:\n",
        "  out.write(final)\n",
        "\n",
        "calculate_score(final)"
      ],
      "metadata": {
        "colab": {
          "base_uri": "https://localhost:8080/"
        },
        "id": "J477rKQ7t8gM",
        "outputId": "1da7140a-83ab-434f-a2f1-f9b1f70de696"
      },
      "execution_count": 101,
      "outputs": [
        {
          "output_type": "stream",
          "name": "stdout",
          "text": [
            "Flesch score: 45.04716678385583\n",
            "Dalechall score: 11.184819919600042\n",
            "Flesch-Kincaid score: 13.309595931545736\n",
            "Gunning Fog score: 16.67435773968143\n",
            "Smog score: 14.735894489727627\n"
          ]
        }
      ]
    },
    {
      "cell_type": "markdown",
      "source": [
        "##TCS 2020-21"
      ],
      "metadata": {
        "id": "t1snzIOj6pPb"
      }
    },
    {
      "cell_type": "code",
      "source": [
        "file = open('/content/drive/MyDrive/Telfer/Annual_reports/tcs_20-21.pdf', 'r')\n",
        "text, lines = data(file , 98, 174)\n",
        "final = final_text(lines)\n",
        "with open('/content/drive/MyDrive/Telfer/tp.txt', 'w') as out:\n",
        "  out.write(final)\n",
        "\n",
        "calculate_score(final)"
      ],
      "metadata": {
        "colab": {
          "base_uri": "https://localhost:8080/"
        },
        "id": "Gq_7CJ6ht8jM",
        "outputId": "4e820759-3199-4cd2-d029-bb6a1f77a510"
      },
      "execution_count": 102,
      "outputs": [
        {
          "output_type": "stream",
          "name": "stdout",
          "text": [
            "Flesch score: 39.84231071798769\n",
            "Dalechall score: 11.535965251556853\n",
            "Flesch-Kincaid score: 13.848447189504775\n",
            "Gunning Fog score: 17.222223437181512\n",
            "Smog score: 15.289621049314157\n"
          ]
        }
      ]
    },
    {
      "cell_type": "markdown",
      "source": [
        "## Reliance 2020-21"
      ],
      "metadata": {
        "id": "rjoVg2hJ_ISS"
      }
    },
    {
      "cell_type": "code",
      "source": [
        "file = open('/content/drive/MyDrive/Telfer/Annual_reports/reliance_20-21.pdf', 'r')\n",
        "text, lines = data(file , 24, 70)\n",
        "final = final_text(lines)\n",
        "with open('/content/drive/MyDrive/Telfer/tp.txt', 'w') as out:\n",
        "  out.write(final)\n",
        "\n",
        "calculate_score(final)"
      ],
      "metadata": {
        "colab": {
          "base_uri": "https://localhost:8080/"
        },
        "id": "FA8tiAn1t8mX",
        "outputId": "7bdb090f-769c-4787-bba6-026c376aed21"
      },
      "execution_count": 103,
      "outputs": [
        {
          "output_type": "stream",
          "name": "stdout",
          "text": [
            "Flesch score: 47.98582296359581\n",
            "Dalechall score: 11.5985827507317\n",
            "Flesch-Kincaid score: 12.001146759910718\n",
            "Gunning Fog score: 15.43461069553805\n",
            "Smog score: 14.051564164018302\n"
          ]
        }
      ]
    },
    {
      "cell_type": "markdown",
      "source": [
        "## Hindustan Unilever"
      ],
      "metadata": {
        "id": "Fr5GvknMAmkg"
      }
    },
    {
      "cell_type": "code",
      "source": [
        "file = open('/content/drive/MyDrive/Telfer/Annual_reports/HUL_20-21.pdf', 'r')\n",
        "text, lines = data(file , 12, 58)\n",
        "final = final_text(lines)\n",
        "with open('/content/drive/MyDrive/Telfer/tp.txt', 'w') as out:\n",
        "  out.write(final)\n",
        "\n",
        "calculate_score(final)"
      ],
      "metadata": {
        "colab": {
          "base_uri": "https://localhost:8080/"
        },
        "id": "J-sg2o9Xt8sl",
        "outputId": "a2f23a21-91b1-490d-b951-41e5ab479e67"
      },
      "execution_count": 104,
      "outputs": [
        {
          "output_type": "stream",
          "name": "stdout",
          "text": [
            "Flesch score: 44.59484753970523\n",
            "Dalechall score: 10.842913381833908\n",
            "Flesch-Kincaid score: 13.023686337709218\n",
            "Gunning Fog score: 16.29870016121891\n",
            "Smog score: 14.572667467147244\n"
          ]
        }
      ]
    },
    {
      "cell_type": "markdown",
      "source": [
        "## ICICI"
      ],
      "metadata": {
        "id": "R5xRw77HCzP4"
      }
    },
    {
      "cell_type": "code",
      "source": [
        "file = open('/content/drive/MyDrive/Telfer/Annual_reports/ICICI_20-21.pdf', 'r')\n",
        "text, lines = data(file , 114, 141)\n",
        "final = final_text(lines)\n",
        "with open('/content/drive/MyDrive/Telfer/tp.txt', 'w') as out:\n",
        "  out.write(final)\n",
        "\n",
        "calculate_score(final)"
      ],
      "metadata": {
        "colab": {
          "base_uri": "https://localhost:8080/"
        },
        "id": "VFXtApgWt8vz",
        "outputId": "2767f788-28ee-4977-c9f3-b500f36f6150"
      },
      "execution_count": 105,
      "outputs": [
        {
          "output_type": "stream",
          "name": "stdout",
          "text": [
            "Flesch score: 43.72639513892122\n",
            "Dalechall score: 11.002013540968314\n",
            "Flesch-Kincaid score: 14.03701302315172\n",
            "Gunning Fog score: 17.707394112002472\n",
            "Smog score: 15.370414302960867\n"
          ]
        }
      ]
    },
    {
      "cell_type": "markdown",
      "source": [
        "##Oberoi"
      ],
      "metadata": {
        "id": "c7O1rVLgD7F6"
      }
    },
    {
      "cell_type": "code",
      "source": [
        "file = open('/content/drive/MyDrive/Telfer/Annual_reports/Oberoi_20-21.pdf', 'r')\n",
        "text, lines = data(file , 34, 43)\n",
        "final = final_text(lines)\n",
        "with open('/content/drive/MyDrive/Telfer/tp.txt', 'w') as out:\n",
        "  out.write(final)\n",
        "\n",
        "calculate_score(final)"
      ],
      "metadata": {
        "colab": {
          "base_uri": "https://localhost:8080/"
        },
        "id": "WPkd6Ww3t8y1",
        "outputId": "c8547945-65f0-4281-8f2c-1fe320daf1fa"
      },
      "execution_count": 106,
      "outputs": [
        {
          "output_type": "stream",
          "name": "stdout",
          "text": [
            "Flesch score: 45.428129032258084\n",
            "Dalechall score: 10.883027902372419\n",
            "Flesch-Kincaid score: 12.86399078341014\n",
            "Gunning Fog score: 16.112906639358254\n",
            "Smog score: 14.431513636033674\n"
          ]
        }
      ]
    },
    {
      "cell_type": "markdown",
      "source": [
        "#Loss-Making Firms"
      ],
      "metadata": {
        "id": "FaCgqeNyay-S"
      }
    },
    {
      "cell_type": "markdown",
      "source": [
        "## Airtel"
      ],
      "metadata": {
        "id": "xnQ1fk_TVt3F"
      }
    },
    {
      "cell_type": "code",
      "source": [
        "file = open('/content/drive/MyDrive/Telfer/Annual_reports/airtel_20-21.pdf', 'r')\n",
        "text, lines = data(file , 74, 89)\n",
        "final = final_text(lines)\n",
        "with open('/content/drive/MyDrive/Telfer/tp.txt', 'w') as out:\n",
        "  out.write(final)\n",
        "\n",
        "calculate_score(final)"
      ],
      "metadata": {
        "colab": {
          "base_uri": "https://localhost:8080/"
        },
        "id": "BfLvd7qZt813",
        "outputId": "d0606af3-894f-4573-b118-dd76b0c80228"
      },
      "execution_count": 107,
      "outputs": [
        {
          "output_type": "stream",
          "name": "stdout",
          "text": [
            "Flesch score: 44.218698098037066\n",
            "Dalechall score: 11.366439948351525\n",
            "Flesch-Kincaid score: 13.167920206277033\n",
            "Gunning Fog score: 16.041814667532755\n",
            "Smog score: 14.304451962961302\n"
          ]
        }
      ]
    },
    {
      "cell_type": "markdown",
      "source": [
        "##BHEL"
      ],
      "metadata": {
        "id": "CuWSeErWXMS6"
      }
    },
    {
      "cell_type": "code",
      "source": [
        "file = open('/content/drive/MyDrive/Telfer/Annual_reports/BHEL_20-21.pdf', 'r')\n",
        "text, lines = data(file , 38, 82)\n",
        "final = final_text(lines)\n",
        "with open('/content/drive/MyDrive/Telfer/tp.txt', 'w') as out:\n",
        "  out.write(final)\n",
        "\n",
        "calculate_score(final)"
      ],
      "metadata": {
        "colab": {
          "base_uri": "https://localhost:8080/"
        },
        "id": "hpRCvAOrt85E",
        "outputId": "17bd14e2-3d10-4a1e-a437-b68992077bb3"
      },
      "execution_count": 108,
      "outputs": [
        {
          "output_type": "stream",
          "name": "stdout",
          "text": [
            "Flesch score: 39.75749212852145\n",
            "Dalechall score: 11.826325999995767\n",
            "Flesch-Kincaid score: 14.692637255897923\n",
            "Gunning Fog score: 18.257971965959573\n",
            "Smog score: 15.814785946413558\n"
          ]
        }
      ]
    },
    {
      "cell_type": "markdown",
      "source": [
        "Presently, not much difference is observed in indexes."
      ],
      "metadata": {
        "id": "UDUMhsleecbN"
      }
    },
    {
      "cell_type": "code",
      "source": [
        ""
      ],
      "metadata": {
        "id": "fRXbe3r1t88F"
      },
      "execution_count": 108,
      "outputs": []
    },
    {
      "cell_type": "code",
      "source": [
        ""
      ],
      "metadata": {
        "id": "UbXjM6bAt8_G"
      },
      "execution_count": 108,
      "outputs": []
    },
    {
      "cell_type": "code",
      "source": [
        ""
      ],
      "metadata": {
        "id": "zDtOEVvQX9c-"
      },
      "execution_count": 108,
      "outputs": []
    },
    {
      "cell_type": "code",
      "source": [
        ""
      ],
      "metadata": {
        "id": "Y1FfghbWX9gE"
      },
      "execution_count": 108,
      "outputs": []
    },
    {
      "cell_type": "code",
      "source": [
        ""
      ],
      "metadata": {
        "id": "9nf2b_ryX9jA"
      },
      "execution_count": 108,
      "outputs": []
    },
    {
      "cell_type": "code",
      "source": [
        ""
      ],
      "metadata": {
        "id": "HDWTFeM5X9lk"
      },
      "execution_count": 108,
      "outputs": []
    },
    {
      "cell_type": "code",
      "source": [
        ""
      ],
      "metadata": {
        "id": "ifOIWMZTX9oT"
      },
      "execution_count": 108,
      "outputs": []
    },
    {
      "cell_type": "code",
      "source": [
        ""
      ],
      "metadata": {
        "id": "doMOzHXuX9rH"
      },
      "execution_count": 108,
      "outputs": []
    },
    {
      "cell_type": "code",
      "source": [
        ""
      ],
      "metadata": {
        "id": "dO1529OqX9wf"
      },
      "execution_count": 108,
      "outputs": []
    },
    {
      "cell_type": "code",
      "source": [
        ""
      ],
      "metadata": {
        "id": "2kLNThnQt9B2"
      },
      "execution_count": 108,
      "outputs": []
    },
    {
      "cell_type": "code",
      "source": [
        ""
      ],
      "metadata": {
        "id": "aMBGHKNst9FD"
      },
      "execution_count": 108,
      "outputs": []
    },
    {
      "cell_type": "code",
      "source": [
        ""
      ],
      "metadata": {
        "id": "Fh4MyLkTt9K4"
      },
      "execution_count": 108,
      "outputs": []
    }
  ]
}